{
 "cells": [
  {
   "cell_type": "code",
   "execution_count": 20,
   "metadata": {},
   "outputs": [
    {
     "name": "stdout",
     "output_type": "stream",
     "text": [
      "Requirement already satisfied: nltk in /opt/conda/lib/python3.6/site-packages (3.4.5)\n",
      "Requirement already satisfied: six in /opt/conda/lib/python3.6/site-packages (from nltk) (1.12.0)\n"
     ]
    },
    {
     "name": "stderr",
     "output_type": "stream",
     "text": [
      "[nltk_data] Downloading package punkt to /home/jovyan/nltk_data...\n",
      "[nltk_data]   Package punkt is already up-to-date!\n"
     ]
    },
    {
     "data": {
      "text/plain": [
       "86.62700000000001"
      ]
     },
     "execution_count": 20,
     "metadata": {},
     "output_type": "execute_result"
    }
   ],
   "source": [
    "!pip install nltk\n",
    "\n",
    "import nltk\n",
    "nltk.download('punkt')\n",
    "\n",
    "def KP_Score(text):\n",
    "    words = nltk.word_tokenize(text)\n",
    "    ST = nltk.tokenize.sonority_sequencing.SyllableTokenizer()\n",
    "    syllables = [ST.tokenize(token) for token in words]\n",
    "    syll_count = sum([len(element) for element in syllables])\n",
    "    sent_count = len(nltk.sent_tokenize(text))\n",
    "    word_count = len(words)\n",
    "    score = 206.835 - 1.015 * (word_count / sent_count) - 84.66 * (syll_count / word_count) \n",
    "    return score\n",
    "\n",
    "def KP_Score_tokenized(text):\n",
    "    words = nltk.word_tokenize(text)\n",
    "    ST = nltk.tokenize.sonority_sequencing.SyllableTokenizer()\n",
    "    syllables = [ST.tokenize(token) for token in words]\n",
    "    syll_count = sum([len(element) for element in syllables])\n",
    "    sent_count = len(nltk.sent_tokenize(text))\n",
    "    word_count = len(words)\n",
    "    score = 206.835 - 1.015 * (word_count / sent_count) - 84.66 * (syll_count / word_count) \n",
    "    return score\n",
    "\n",
    "KP_Score(\"The quick brown fox jumped over the lazy dog.\")"
   ]
  },
  {
   "cell_type": "code",
   "execution_count": null,
   "metadata": {},
   "outputs": [],
   "source": []
  }
 ],
 "metadata": {
  "kernelspec": {
   "display_name": "Python 3",
   "language": "python",
   "name": "python3"
  },
  "language_info": {
   "codemirror_mode": {
    "name": "ipython",
    "version": 3
   },
   "file_extension": ".py",
   "mimetype": "text/x-python",
   "name": "python",
   "nbconvert_exporter": "python",
   "pygments_lexer": "ipython3",
   "version": "3.6.8"
  }
 },
 "nbformat": 4,
 "nbformat_minor": 2
}
